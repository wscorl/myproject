{
 "cells": [
  {
   "cell_type": "markdown",
   "id": "1a9c2a44",
   "metadata": {},
   "source": [
    "## Прогноз виручки (three-phase linear)\n",
    "\n",
    "Щомісячний прогноз виручки по категоріях із повторним використанням пайплайну."
   ]
  },
  {
   "cell_type": "code",
   "execution_count": null,
   "id": "7d81034d",
   "metadata": {},
   "outputs": [],
   "source": [
    "from pathlib import Path\n",
    "\n",
    "import numpy as np\n",
    "import pandas as pd\n",
    "\n",
    "from three_phase_linear import ForecastConfig, run_three_phase_forecast\n",
    "\n",
    "DATA_PATH = Path('forecast_revenue_dataset.csv')\n",
    "OUTPUT_PATH = Path('money_three_phase_forecast.csv')\n",
    "GROUP_COLS = ['category_id']\n",
    "TARGET_COLUMN = 'revenue'\n",
    "REGRESSORS = ['is_sale_prohibition', 'cos_month', 'sin_month', 'cos_quarter', 'sin_quarter', 'unique_brand_count']"
   ]
  },
  {
   "cell_type": "code",
   "execution_count": null,
   "id": "f40b5537",
   "metadata": {},
   "outputs": [],
   "source": [
    "df = pd.read_csv(DATA_PATH, sep=';')\n",
    "df['date'] = pd.to_datetime(df['date'], dayfirst=True)\n",
    "df = df.sort_values(GROUP_COLS + ['date']).reset_index(drop=True)\n",
    "for col in REGRESSORS:\n",
    "    df[col] = pd.to_numeric(df[col], errors='coerce')\n",
    "\n",
    "agg_df = df.groupby(['date', 'category_id', 'category_title'], as_index=False).agg(\n",
    "    revenue_sum=('revenue', 'sum'),\n",
    "    revenue_count=('revenue', 'count'),\n",
    "    is_sale_prohibition=('is_sale_prohibition', 'max'),\n",
    "    cos_month=('cos_month', 'mean'),\n",
    "    sin_month=('sin_month', 'mean'),\n",
    "    cos_quarter=('cos_quarter', 'mean'),\n",
    "    sin_quarter=('sin_quarter', 'mean'),\n",
    "    unique_brand_count=('unique_brand_count', 'mean'),\n",
    ")\n",
    "agg_df.loc[agg_df['revenue_count'] == 0, 'revenue_sum'] = np.nan\n",
    "df = agg_df.rename(columns={'revenue_sum': 'revenue'}).drop(columns=['revenue_count'])\n",
    "df = df.sort_values(GROUP_COLS + ['date']).reset_index(drop=True)\n",
    "\n",
    "future_counts = df[df[TARGET_COLUMN].isna()].groupby(GROUP_COLS).size()\n",
    "forecast_horizon = int(future_counts.max()) if not future_counts.empty else 12\n",
    "if forecast_horizon <= 0:\n",
    "    forecast_horizon = 12\n",
    "\n",
    "print(f'Горизонт прогнозу: {forecast_horizon} періодів')"
   ]
  },
  {
   "cell_type": "code",
   "execution_count": null,
   "id": "ddfe9233",
   "metadata": {},
   "outputs": [],
   "source": [
    "input_cols = ['date', *GROUP_COLS, TARGET_COLUMN, *REGRESSORS]\n",
    "input_cols = list(dict.fromkeys(input_cols))\n",
    "config = ForecastConfig(\n",
    "    time_col='date',\n",
    "    target_col=TARGET_COLUMN,\n",
    "    group_cols=GROUP_COLS,\n",
    "    freq='MS',\n",
    "    forecast_horizon=forecast_horizon,\n",
    "    seasonal_periods=12,\n",
    "    min_history=24,\n",
    "    lags=(1, 2, 3, 6, 12, 18, 24),\n",
    "    rolling_windows=(3, 6, 12, 24),\n",
    "    additional_regressors=REGRESSORS,\n",
    "    random_search_iterations=10,\n",
    "    n_splits=4,\n",
    "    random_state=46,\n",
    ")\n",
    "\n",
    "preds, summaries = run_three_phase_forecast(df[input_cols].copy(), config)\n",
    "preds = preds.rename(columns={\n",
    "    'prediction': 'revenue_forecast',\n",
    "    f'{TARGET_COLUMN}_holtwinters': 'revenue_baseline',\n",
    "})\n",
    "summary_report = pd.DataFrame({\n",
    "    'group_key': [s.group_key[0] for s in summaries],\n",
    "    'train_rows': [s.train_rows for s in summaries],\n",
    "    'cv_mae': [s.best_score for s in summaries],\n",
    "    'skipped_reason': [s.skipped_reason for s in summaries],\n",
    "})\n",
    "summary_report.head()"
   ]
  },
  {
   "cell_type": "code",
   "execution_count": null,
   "id": "5f50c90f",
   "metadata": {},
   "outputs": [],
   "source": [
    "merge_cols = [*GROUP_COLS, 'date']\n",
    "result_df = df.copy()\n",
    "result_df['is_forecast_period'] = result_df[TARGET_COLUMN].isna()\n",
    "result_df = result_df.merge(preds[merge_cols + ['revenue_forecast']], on=merge_cols, how='left')\n",
    "result_df['revenue'] = result_df['revenue'].astype(float)\n",
    "result_df['revenue'] = result_df['revenue'].fillna(result_df['revenue_forecast'])\n",
    "\n",
    "output_columns = ['date', 'category_id', 'category_title', 'revenue']\n",
    "final_output = result_df.loc[result_df['is_forecast_period'], output_columns]\n",
    "final_output = final_output.groupby(['date', 'category_id', 'category_title'], as_index=False)['revenue'].sum()\n",
    "final_output = final_output.sort_values(['category_id', 'date']).reset_index(drop=True)\n",
    "final_output.to_csv(OUTPUT_PATH, index=False)\n",
    "\n",
    "final_output.tail()"
   ]
  },
  {
   "cell_type": "code",
   "execution_count": null,
   "id": "7b5c9fb0",
   "metadata": {},
   "outputs": [],
   "source": [
    "summary_report"
   ]
  }
 ],
 "metadata": {
  "kernelspec": {
   "display_name": "Python 3",
   "language": "python",
   "name": "python3"
  },
  "language_info": {
   "name": "python",
   "pygments_lexer": "ipython3"
  }
 },
 "nbformat": 4,
 "nbformat_minor": 5
}
